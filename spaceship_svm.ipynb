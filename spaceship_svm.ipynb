{
 "cells": [
  {
   "cell_type": "code",
   "execution_count": 1,
   "metadata": {},
   "outputs": [],
   "source": [
    "import pandas as pd\n",
    "import numpy as np\n",
    "import matplotlib.pyplot as plt\n",
    "import seaborn as sns\n",
    "\n",
    "dataTest = pd.read_csv('test.csv')\n",
    "dataTest = pd.read_csv('train.csv')"
   ]
  },
  {
   "cell_type": "markdown",
   "metadata": {},
   "source": [
    "Training"
   ]
  },
  {
   "cell_type": "code",
   "execution_count": null,
   "metadata": {},
   "outputs": [],
   "source": [
    "dataTest.head()"
   ]
  },
  {
   "cell_type": "code",
   "execution_count": 4,
   "metadata": {},
   "outputs": [
    {
     "name": "stdout",
     "output_type": "stream",
     "text": [
      "Column : ['PassengerId', 'HomePlanet', 'CryoSleep', 'Cabin', 'Destination', 'Age', 'VIP', 'RoomService', 'FoodCourt', 'ShoppingMall', 'Spa', 'VRDeck', 'Name', 'Transported']\n",
      "\n",
      "Shape :  (8693, 14) \n",
      "\n",
      "Tipe Data : PassengerId      object\n",
      "HomePlanet       object\n",
      "CryoSleep          bool\n",
      "Cabin            object\n",
      "Destination      object\n",
      "Age             float64\n",
      "VIP                bool\n",
      "RoomService     float64\n",
      "FoodCourt       float64\n",
      "ShoppingMall    float64\n",
      "Spa             float64\n",
      "VRDeck          float64\n",
      "Name             object\n",
      "Transported        bool\n",
      "dtype: object \n",
      "\n",
      "Missing Values :  PassengerId       0\n",
      "HomePlanet        0\n",
      "CryoSleep         0\n",
      "Cabin             0\n",
      "Destination       0\n",
      "Age               0\n",
      "VIP               0\n",
      "RoomService       0\n",
      "FoodCourt         0\n",
      "ShoppingMall      0\n",
      "Spa               0\n",
      "VRDeck            0\n",
      "Name            200\n",
      "Transported       0\n",
      "dtype: int64 \n"
     ]
    }
   ],
   "source": [
    "print(f\"Column : {list(dataTest.columns)}\\n\")\n",
    "\n",
    "print(f\"Shape :  {dataTest.shape} \\n\")\n",
    "\n",
    "print(f\"Tipe Data : {dataTest.dtypes} \\n\")\n",
    "\n",
    "print(f\"Missing Values :  {dataTest.isnull().sum()} \")\n"
   ]
  },
  {
   "cell_type": "markdown",
   "metadata": {},
   "source": [
    "Preprocessing Data"
   ]
  },
  {
   "cell_type": "code",
   "execution_count": 3,
   "metadata": {},
   "outputs": [],
   "source": [
    "dataTest['Age'].fillna(dataTest['Age'].mean(),inplace=True)\n",
    "dataTest['RoomService'].fillna(dataTest['RoomService'].mean(),inplace=True)\n",
    "dataTest['FoodCourt'].fillna(dataTest['FoodCourt'].mean(),inplace=True)\n",
    "dataTest['ShoppingMall'].fillna(dataTest['ShoppingMall'].mean(),inplace=True)\n",
    "dataTest['Spa'].fillna(dataTest['Spa'].mean(),inplace=True)\n",
    "dataTest['VRDeck'].fillna(dataTest['VRDeck'].mean(),inplace=True)\n",
    "\n",
    "dataTest['HomePlanet'].fillna(dataTest['HomePlanet'].mode()[0], inplace=True)\n",
    "dataTest['CryoSleep'].fillna(dataTest['CryoSleep'].mode()[0], inplace=True)\n",
    "dataTest['Cabin'].fillna(dataTest['Cabin'].mode()[0], inplace=True)\n",
    "dataTest['Destination'].fillna(dataTest['Destination'].mode()[0], inplace=True)\n",
    "dataTest['VIP'].fillna(dataTest['VIP'].mode()[0], inplace=True)\n"
   ]
  },
  {
   "cell_type": "code",
   "execution_count": 27,
   "metadata": {},
   "outputs": [
    {
     "name": "stdout",
     "output_type": "stream",
     "text": [
      "Unique : ['Europa' 'Earth' 'Mars']\n",
      "Unique : [False  True]\n",
      "Unique : ['TRAPPIST-1e' 'PSO J318.5-22' '55 Cancri e']\n",
      "Unique : ['B/0/P' 'F/0/S' 'A/0/S' ... 'G/1499/S' 'G/1500/S' 'E/608/S']\n",
      "Unique : [False  True]\n"
     ]
    }
   ],
   "source": [
    "print(f\"Unique : {dataTest['HomePlanet'].unique()}\")\n",
    "print(f\"Unique : {dataTest['CryoSleep'].unique()}\")\n",
    "print(f\"Unique : {dataTest['Destination'].unique()}\")\n",
    "print(f\"Unique : {dataTest['Cabin'].unique()}\")\n",
    "print(f\"Unique : {dataTest['VIP'].unique()}\")\n"
   ]
  },
  {
   "cell_type": "code",
   "execution_count": 8,
   "metadata": {},
   "outputs": [],
   "source": [
    "dataTest.replace({\n",
    "    'HomePlanet' : {'Europa' :0, 'Earth' :1, 'Mars' : 2},\n",
    "    'CryoSleep' : {'False' :0, 'True' :1},\n",
    "    'Destination' : {'TRAPPIST-1e':0, 'PSO J318.5-22':1, '55 Cancri e':2},\n",
    "    'VIP' : {'False' :0, \"True\" :1}},\n",
    "    inplace=True\n",
    ")"
   ]
  },
  {
   "cell_type": "code",
   "execution_count": 7,
   "metadata": {},
   "outputs": [
    {
     "name": "stdout",
     "output_type": "stream",
     "text": [
      "Tipe Data : PassengerId      object\n",
      "HomePlanet        int64\n",
      "CryoSleep          bool\n",
      "Cabin            object\n",
      "Destination       int64\n",
      "Age             float64\n",
      "VIP                bool\n",
      "RoomService     float64\n",
      "FoodCourt       float64\n",
      "ShoppingMall    float64\n",
      "Spa             float64\n",
      "VRDeck          float64\n",
      "Name             object\n",
      "Transported        bool\n",
      "dtype: object \n",
      "\n"
     ]
    }
   ],
   "source": [
    "print(f\"Tipe Data : {dataTest.dtypes} \\n\")"
   ]
  },
  {
   "cell_type": "markdown",
   "metadata": {},
   "source": [
    "Target & Features"
   ]
  },
  {
   "cell_type": "code",
   "execution_count": 10,
   "metadata": {},
   "outputs": [
    {
     "name": "stdout",
     "output_type": "stream",
     "text": [
      "(8693, 10)\n",
      "(8693,)\n"
     ]
    }
   ],
   "source": [
    "x = dataTest.drop(columns= ['PassengerId', 'Cabin', 'Name', 'Transported'], axis=1)\n",
    "y = dataTest['Transported']\n",
    "print(f\"{x.shape}\")\n",
    "print(f\"{y.shape}\")"
   ]
  },
  {
   "cell_type": "markdown",
   "metadata": {},
   "source": [
    "Data Latih dan Uji\n"
   ]
  },
  {
   "cell_type": "code",
   "execution_count": 11,
   "metadata": {},
   "outputs": [],
   "source": [
    "from sklearn.model_selection import train_test_split\n",
    "x_latih, x_uji, y_latih, y_uji = train_test_split(x,y,test_size=0.2, random_state=2)        "
   ]
  },
  {
   "cell_type": "code",
   "execution_count": 12,
   "metadata": {},
   "outputs": [
    {
     "name": "stdout",
     "output_type": "stream",
     "text": [
      "(6954, 10)\n",
      "(6954,)\n",
      "(1739, 10)\n",
      "(1739,)\n"
     ]
    }
   ],
   "source": [
    "print(x_latih.shape)\n",
    "print(y_latih.shape)\n",
    "print(x_uji.shape)\n",
    "print(y_uji.shape)"
   ]
  },
  {
   "cell_type": "markdown",
   "metadata": {},
   "source": [
    "Proses Train"
   ]
  },
  {
   "cell_type": "code",
   "execution_count": 13,
   "metadata": {},
   "outputs": [
    {
     "name": "stdout",
     "output_type": "stream",
     "text": [
      "Akurasi Model SVM pada Data Uji: 0.7889591719378953\n"
     ]
    }
   ],
   "source": [
    "from sklearn.svm import SVC\n",
    "from sklearn.metrics import accuracy_score\n",
    "\n",
    "svm = SVC()\n",
    "svm.fit(x_latih, y_latih)\n",
    "\n",
    "y_pred = svm.predict(x_uji)\n",
    "akurasi = accuracy_score(y_uji, y_pred)\n",
    "print(\"Akurasi Model SVM pada Data Uji:\", akurasi)\n"
   ]
  },
  {
   "cell_type": "markdown",
   "metadata": {},
   "source": [
    "Testing"
   ]
  },
  {
   "cell_type": "code",
   "execution_count": 14,
   "metadata": {},
   "outputs": [
    {
     "ename": "NotFittedError",
     "evalue": "This StandardScaler instance is not fitted yet. Call 'fit' with appropriate arguments before using this estimator.",
     "output_type": "error",
     "traceback": [
      "\u001b[1;31m---------------------------------------------------------------------------\u001b[0m",
      "\u001b[1;31mNotFittedError\u001b[0m                            Traceback (most recent call last)",
      "Cell \u001b[1;32mIn[14], line 33\u001b[0m\n\u001b[0;32m     30\u001b[0m scaler \u001b[38;5;241m=\u001b[39m StandardScaler()\n\u001b[0;32m     32\u001b[0m \u001b[38;5;66;03m# Transformasi standarisasi pada dataset uji\u001b[39;00m\n\u001b[1;32m---> 33\u001b[0m x_test_scaled \u001b[38;5;241m=\u001b[39m scaler\u001b[38;5;241m.\u001b[39mtransform(x_test)\n\u001b[0;32m     35\u001b[0m \u001b[38;5;66;03m# Gunakan model untuk membuat prediksi\u001b[39;00m\n\u001b[0;32m     36\u001b[0m predictions \u001b[38;5;241m=\u001b[39m svm\u001b[38;5;241m.\u001b[39mpredict(x_test_scaled)\n",
      "File \u001b[1;32mc:\\Users\\RyanMFDR\\anaconda3\\Lib\\site-packages\\sklearn\\utils\\_set_output.py:140\u001b[0m, in \u001b[0;36m_wrap_method_output.<locals>.wrapped\u001b[1;34m(self, X, *args, **kwargs)\u001b[0m\n\u001b[0;32m    138\u001b[0m \u001b[38;5;129m@wraps\u001b[39m(f)\n\u001b[0;32m    139\u001b[0m \u001b[38;5;28;01mdef\u001b[39;00m \u001b[38;5;21mwrapped\u001b[39m(\u001b[38;5;28mself\u001b[39m, X, \u001b[38;5;241m*\u001b[39margs, \u001b[38;5;241m*\u001b[39m\u001b[38;5;241m*\u001b[39mkwargs):\n\u001b[1;32m--> 140\u001b[0m     data_to_wrap \u001b[38;5;241m=\u001b[39m f(\u001b[38;5;28mself\u001b[39m, X, \u001b[38;5;241m*\u001b[39margs, \u001b[38;5;241m*\u001b[39m\u001b[38;5;241m*\u001b[39mkwargs)\n\u001b[0;32m    141\u001b[0m     \u001b[38;5;28;01mif\u001b[39;00m \u001b[38;5;28misinstance\u001b[39m(data_to_wrap, \u001b[38;5;28mtuple\u001b[39m):\n\u001b[0;32m    142\u001b[0m         \u001b[38;5;66;03m# only wrap the first output for cross decomposition\u001b[39;00m\n\u001b[0;32m    143\u001b[0m         \u001b[38;5;28;01mreturn\u001b[39;00m (\n\u001b[0;32m    144\u001b[0m             _wrap_data_with_container(method, data_to_wrap[\u001b[38;5;241m0\u001b[39m], X, \u001b[38;5;28mself\u001b[39m),\n\u001b[0;32m    145\u001b[0m             \u001b[38;5;241m*\u001b[39mdata_to_wrap[\u001b[38;5;241m1\u001b[39m:],\n\u001b[0;32m    146\u001b[0m         )\n",
      "File \u001b[1;32mc:\\Users\\RyanMFDR\\anaconda3\\Lib\\site-packages\\sklearn\\preprocessing\\_data.py:989\u001b[0m, in \u001b[0;36mStandardScaler.transform\u001b[1;34m(self, X, copy)\u001b[0m\n\u001b[0;32m    974\u001b[0m \u001b[38;5;28;01mdef\u001b[39;00m \u001b[38;5;21mtransform\u001b[39m(\u001b[38;5;28mself\u001b[39m, X, copy\u001b[38;5;241m=\u001b[39m\u001b[38;5;28;01mNone\u001b[39;00m):\n\u001b[0;32m    975\u001b[0m \u001b[38;5;250m    \u001b[39m\u001b[38;5;124;03m\"\"\"Perform standardization by centering and scaling.\u001b[39;00m\n\u001b[0;32m    976\u001b[0m \n\u001b[0;32m    977\u001b[0m \u001b[38;5;124;03m    Parameters\u001b[39;00m\n\u001b[1;32m   (...)\u001b[0m\n\u001b[0;32m    987\u001b[0m \u001b[38;5;124;03m        Transformed array.\u001b[39;00m\n\u001b[0;32m    988\u001b[0m \u001b[38;5;124;03m    \"\"\"\u001b[39;00m\n\u001b[1;32m--> 989\u001b[0m     check_is_fitted(\u001b[38;5;28mself\u001b[39m)\n\u001b[0;32m    991\u001b[0m     copy \u001b[38;5;241m=\u001b[39m copy \u001b[38;5;28;01mif\u001b[39;00m copy \u001b[38;5;129;01mis\u001b[39;00m \u001b[38;5;129;01mnot\u001b[39;00m \u001b[38;5;28;01mNone\u001b[39;00m \u001b[38;5;28;01melse\u001b[39;00m \u001b[38;5;28mself\u001b[39m\u001b[38;5;241m.\u001b[39mcopy\n\u001b[0;32m    992\u001b[0m     X \u001b[38;5;241m=\u001b[39m \u001b[38;5;28mself\u001b[39m\u001b[38;5;241m.\u001b[39m_validate_data(\n\u001b[0;32m    993\u001b[0m         X,\n\u001b[0;32m    994\u001b[0m         reset\u001b[38;5;241m=\u001b[39m\u001b[38;5;28;01mFalse\u001b[39;00m,\n\u001b[1;32m   (...)\u001b[0m\n\u001b[0;32m    998\u001b[0m         force_all_finite\u001b[38;5;241m=\u001b[39m\u001b[38;5;124m\"\u001b[39m\u001b[38;5;124mallow-nan\u001b[39m\u001b[38;5;124m\"\u001b[39m,\n\u001b[0;32m    999\u001b[0m     )\n",
      "File \u001b[1;32mc:\\Users\\RyanMFDR\\anaconda3\\Lib\\site-packages\\sklearn\\utils\\validation.py:1390\u001b[0m, in \u001b[0;36mcheck_is_fitted\u001b[1;34m(estimator, attributes, msg, all_or_any)\u001b[0m\n\u001b[0;32m   1385\u001b[0m     fitted \u001b[38;5;241m=\u001b[39m [\n\u001b[0;32m   1386\u001b[0m         v \u001b[38;5;28;01mfor\u001b[39;00m v \u001b[38;5;129;01min\u001b[39;00m \u001b[38;5;28mvars\u001b[39m(estimator) \u001b[38;5;28;01mif\u001b[39;00m v\u001b[38;5;241m.\u001b[39mendswith(\u001b[38;5;124m\"\u001b[39m\u001b[38;5;124m_\u001b[39m\u001b[38;5;124m\"\u001b[39m) \u001b[38;5;129;01mand\u001b[39;00m \u001b[38;5;129;01mnot\u001b[39;00m v\u001b[38;5;241m.\u001b[39mstartswith(\u001b[38;5;124m\"\u001b[39m\u001b[38;5;124m__\u001b[39m\u001b[38;5;124m\"\u001b[39m)\n\u001b[0;32m   1387\u001b[0m     ]\n\u001b[0;32m   1389\u001b[0m \u001b[38;5;28;01mif\u001b[39;00m \u001b[38;5;129;01mnot\u001b[39;00m fitted:\n\u001b[1;32m-> 1390\u001b[0m     \u001b[38;5;28;01mraise\u001b[39;00m NotFittedError(msg \u001b[38;5;241m%\u001b[39m {\u001b[38;5;124m\"\u001b[39m\u001b[38;5;124mname\u001b[39m\u001b[38;5;124m\"\u001b[39m: \u001b[38;5;28mtype\u001b[39m(estimator)\u001b[38;5;241m.\u001b[39m\u001b[38;5;18m__name__\u001b[39m})\n",
      "\u001b[1;31mNotFittedError\u001b[0m: This StandardScaler instance is not fitted yet. Call 'fit' with appropriate arguments before using this estimator."
     ]
    }
   ],
   "source": [
    "from sklearn.preprocessing import StandardScaler\n",
    "\n",
    "# Lakukan preprocessing data\n",
    "dataTest['Age'].fillna(dataTest['Age'].mean(), inplace=True)\n",
    "dataTest['RoomService'].fillna(dataTest['RoomService'].mean(), inplace=True)\n",
    "dataTest['FoodCourt'].fillna(dataTest['FoodCourt'].mean(), inplace=True)\n",
    "dataTest['ShoppingMall'].fillna(dataTest['ShoppingMall'].mean(), inplace=True)\n",
    "dataTest['Spa'].fillna(dataTest['Spa'].mean(), inplace=True)\n",
    "dataTest['VRDeck'].fillna(dataTest['VRDeck'].mean(), inplace=True)\n",
    "\n",
    "dataTest['HomePlanet'].fillna(dataTest['HomePlanet'].mode()[0], inplace=True)\n",
    "dataTest['CryoSleep'].fillna(dataTest['CryoSleep'].mode()[0], inplace=True)\n",
    "dataTest['Cabin'].fillna(dataTest['Cabin'].mode()[0], inplace=True)\n",
    "dataTest['Destination'].fillna(dataTest['Destination'].mode()[0], inplace=True)\n",
    "dataTest['VIP'].fillna(dataTest['VIP'].mode()[0], inplace=True)\n",
    "\n",
    "# Drop kolom yang tidak diperlukan\n",
    "x_test = dataTest.drop(columns=['PassengerId', 'Cabin', 'Name'], axis=1)\n",
    "\n",
    "# Lakukan encoding pada kolom-kolom yang perlu\n",
    "# Misalnya:\n",
    "x_test.replace({\n",
    "    'HomePlanet': {'Europa': 0, 'Earth': 1, 'Mars': 2},\n",
    "    'CryoSleep': {'False': 0, 'True': 1},\n",
    "    'Destination': {'TRAPPIST-1e': 0, 'PSO J318.5-22': 1, '55 Cancri e': 2},\n",
    "    'VIP': {'False': 0, \"True\": 1}\n",
    "}, inplace=True)\n",
    "\n",
    "# Inisialisasi objek StandardScaler\n",
    "scaler = StandardScaler()\n",
    "\n",
    "# Transformasi standarisasi pada dataset uji\n",
    "x_test_scaled = scaler.transform(x_test)\n",
    "\n",
    "# Gunakan model untuk membuat prediksi\n",
    "predictions = svm.predict(x_test_scaled)\n",
    "\n",
    "# Buat DataFrame baru untuk hasil prediksi\n",
    "submission_df = pd.DataFrame({\n",
    "    'PassengerId': dataTest['PassengerId'],\n",
    "    'Transported': predictions\n",
    "})\n",
    "\n",
    "# Outputkan DataFrame ke dalam file CSV\n",
    "submission_df.to_csv('submission.csv', index=False)\n"
   ]
  },
  {
   "cell_type": "code",
   "execution_count": null,
   "metadata": {},
   "outputs": [],
   "source": []
  }
 ],
 "metadata": {
  "kernelspec": {
   "display_name": "base",
   "language": "python",
   "name": "python3"
  },
  "language_info": {
   "codemirror_mode": {
    "name": "ipython",
    "version": 3
   },
   "file_extension": ".py",
   "mimetype": "text/x-python",
   "name": "python",
   "nbconvert_exporter": "python",
   "pygments_lexer": "ipython3",
   "version": "3.11.7"
  }
 },
 "nbformat": 4,
 "nbformat_minor": 2
}
